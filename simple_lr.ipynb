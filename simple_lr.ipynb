{
 "cells": [
  {
   "cell_type": "code",
   "execution_count": 1,
   "id": "d042b8fd-e6c0-447b-958a-6e81a89f5eb7",
   "metadata": {},
   "outputs": [],
   "source": [
    "import pandas as pd \n",
    "import numpy as np \n",
    "import seaborn as sns \n",
    "df = pd.read_csv(\"D:\\my all learnings\\machine_learning\\linear_regression\\placement.csv\")"
   ]
  },
  {
   "cell_type": "code",
   "execution_count": 61,
   "id": "66cf0658-2aac-4a36-9b95-0c7cbd8f026a",
   "metadata": {},
   "outputs": [],
   "source": [
    "class simple_lr:\n",
    "    def __init__(self):\n",
    "        self.m = None \n",
    "        self.b = None \n",
    "    \n",
    "    def fit(self,X_train,y_train):\n",
    "        num = 0\n",
    "        den = 0\n",
    "        for i in range(X_train.shape[0]):\n",
    "            num += (X_train[i]-X_train.mean())*(y_train[i]-y_train.mean())\n",
    "            den += (X_train[i]-X_train.mean())*(X_train[i]-X_train.mean())\n",
    "        self.m = num/den \n",
    "        self.b = y_train.mean() - self.m*X_train.mean()\n",
    "\n",
    "    def slope(self):\n",
    "        return f\"slope = {self.m}\"\n",
    "\n",
    "    def intercept(self):\n",
    "        return f\"intercept = {self.b}\"\n",
    "\n",
    "    def predict(self,X_test):\n",
    "        y_test = self.m*X_test + self.b\n",
    "        return y_test\n",
    "\n"
   ]
  },
  {
   "cell_type": "code",
   "execution_count": 62,
   "id": "e8c85be5-f9b5-4cc9-b8ad-125d58bcbb63",
   "metadata": {},
   "outputs": [],
   "source": [
    "lr = simple_lr()"
   ]
  },
  {
   "cell_type": "code",
   "execution_count": 63,
   "id": "8e20add6-6587-4e55-a33d-08b1243fdd28",
   "metadata": {},
   "outputs": [],
   "source": [
    "from sklearn.model_selection import train_test_split"
   ]
  },
  {
   "cell_type": "code",
   "execution_count": 64,
   "id": "65bc1b6f-a17b-4914-b49f-4c3cc8d8562f",
   "metadata": {},
   "outputs": [],
   "source": [
    "X = df.iloc[:,0].values\n",
    "y = df.iloc[:,1].values"
   ]
  },
  {
   "cell_type": "code",
   "execution_count": 65,
   "id": "1cae573b-7517-45b3-9751-9b218ad02256",
   "metadata": {},
   "outputs": [],
   "source": [
    "X_train, X_test, y_train, y_test = train_test_split(X, y, test_size=0.2, random_state=42)"
   ]
  },
  {
   "cell_type": "code",
   "execution_count": 66,
   "id": "42441de1-356d-497a-9e2f-88e8cb711fd9",
   "metadata": {},
   "outputs": [],
   "source": [
    "lr.fit(X_train,y_train)"
   ]
  },
  {
   "cell_type": "code",
   "execution_count": 67,
   "id": "f36d4dc1-1948-4726-a78e-6ead2dd49372",
   "metadata": {},
   "outputs": [
    {
     "data": {
      "text/plain": [
       "'slope = 0.5742564727019197'"
      ]
     },
     "execution_count": 67,
     "metadata": {},
     "output_type": "execute_result"
    }
   ],
   "source": [
    "lr.slope()"
   ]
  },
  {
   "cell_type": "code",
   "execution_count": 68,
   "id": "79fb3f6b-33cc-4c09-a36f-a80fc573cdde",
   "metadata": {},
   "outputs": [
    {
     "data": {
      "text/plain": [
       "'intercept = -1.0270069374542108'"
      ]
     },
     "execution_count": 68,
     "metadata": {},
     "output_type": "execute_result"
    }
   ],
   "source": [
    "lr.intercept()"
   ]
  },
  {
   "cell_type": "code",
   "execution_count": 69,
   "id": "09b0a773-f9c4-4f04-9c3f-4722671d3084",
   "metadata": {},
   "outputs": [
    {
     "data": {
      "text/plain": [
       "array([2.78031348, 3.13635249, 3.1995207 , 2.38981908, 3.52684689,\n",
       "       3.76803461, 3.16506531, 2.54486832, 3.17655044, 3.4923915 ,\n",
       "       1.90744364, 2.34962112, 3.6876387 , 2.75734322, 3.47516381,\n",
       "       3.04447145, 2.32665086, 3.20526327, 2.17734418, 3.314372  ,\n",
       "       2.45298729, 2.90090734, 3.32011456, 2.87219451, 3.33734226,\n",
       "       2.19457187, 1.41932564, 2.7114027 , 3.18229301, 2.32665086,\n",
       "       3.74506435, 2.95833298, 3.68189614, 2.97556068, 2.59080884,\n",
       "       3.34882738, 2.47595755, 3.07318428, 4.17575671, 2.95833298])"
      ]
     },
     "execution_count": 69,
     "metadata": {},
     "output_type": "execute_result"
    }
   ],
   "source": [
    "lr.predict(X_test)"
   ]
  },
  {
   "cell_type": "code",
   "execution_count": null,
   "id": "cc5ab70f-a807-4c7d-bda7-41cb33b0a0bc",
   "metadata": {},
   "outputs": [],
   "source": []
  },
  {
   "cell_type": "code",
   "execution_count": null,
   "id": "205687fb-2186-477b-89a2-f0f4f1cabcd4",
   "metadata": {},
   "outputs": [],
   "source": []
  }
 ],
 "metadata": {
  "kernelspec": {
   "display_name": "Python 3 (ipykernel)",
   "language": "python",
   "name": "python3"
  },
  "language_info": {
   "codemirror_mode": {
    "name": "ipython",
    "version": 3
   },
   "file_extension": ".py",
   "mimetype": "text/x-python",
   "name": "python",
   "nbconvert_exporter": "python",
   "pygments_lexer": "ipython3",
   "version": "3.11.4"
  },
  "widgets": {
   "application/vnd.jupyter.widget-state+json": {
    "state": {},
    "version_major": 2,
    "version_minor": 0
   }
  }
 },
 "nbformat": 4,
 "nbformat_minor": 5
}
